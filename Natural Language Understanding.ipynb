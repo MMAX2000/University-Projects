{
 "cells": [
  {
   "cell_type": "markdown",
   "metadata": {
    "collapsed": true,
    "id": "aa32ba14-43e9-47f6-aa38-d80b67556e92",
    "jupyter": {
     "outputs_hidden": true
    }
   },
   "source": [
    "# Lab on the integration of Natural Language Understanding (NLU)"
   ]
  },
  {
   "cell_type": "markdown",
   "metadata": {
    "id": "743cede6-6cb2-441a-87b1-4c87b1d1e67a"
   },
   "source": [
    "### NLU documentation: https://cloud.ibm.com/docs/natural-language-understanding?topic=natural-language-understanding-about NLU API reference: https://cloud.ibm.com/apidocs/natural-language-understanding?code=python#introduction\n",
    "## Python SKD https://cloud.ibm.com/docs/cloud-object-storage?topic=cloud-object-storage-python"
   ]
  },
  {
   "cell_type": "code",
   "execution_count": null,
   "metadata": {
    "id": "0731efb5-79bc-463e-9bdc-a6057f544772"
   },
   "outputs": [],
   "source": [
    "# list all the installed modules in the environment\n",
    "! pip freeze"
   ]
  },
  {
   "cell_type": "code",
   "execution_count": 2,
   "metadata": {
    "id": "a5fe7eba-02ab-4a31-b21a-b87edcd299c5"
   },
   "outputs": [
    {
     "name": "stdout",
     "output_type": "stream",
     "text": [
      "Collecting ibm-watson>=8.0.0\n",
      "  Downloading ibm_watson-10.0.0.tar.gz (359 kB)\n",
      "\u001b[2K     \u001b[90m━━━━━━━━━━━━━━━━━━━━━━━━━━━━━━━━━━━━━━━\u001b[0m \u001b[32m359.4/359.4 kB\u001b[0m \u001b[31m7.1 MB/s\u001b[0m eta \u001b[36m0:00:00\u001b[0ma \u001b[36m0:00:01\u001b[0m\n",
      "\u001b[?25h  Installing build dependencies ... \u001b[?25ldone\n",
      "\u001b[?25h  Getting requirements to build wheel ... \u001b[?25ldone\n",
      "\u001b[?25h  Preparing metadata (pyproject.toml) ... \u001b[?25ldone\n",
      "\u001b[?25hRequirement already satisfied: requests<3.0,>=2.0 in /opt/conda/envs/Python-RT24.1/lib/python3.11/site-packages (from ibm-watson>=8.0.0) (2.32.4)\n",
      "Requirement already satisfied: python_dateutil>=2.5.3 in /opt/conda/envs/Python-RT24.1/lib/python3.11/site-packages (from ibm-watson>=8.0.0) (2.9.0.post0)\n",
      "Collecting websocket-client>=1.1.0 (from ibm-watson>=8.0.0)\n",
      "  Downloading websocket_client-1.8.0-py3-none-any.whl.metadata (8.0 kB)\n",
      "Requirement already satisfied: ibm_cloud_sdk_core==3.*,>=3.3.6 in /opt/conda/envs/Python-RT24.1/lib/python3.11/site-packages (from ibm-watson>=8.0.0) (3.19.2)\n",
      "Requirement already satisfied: urllib3<3.0.0,>=2.1.0 in /opt/conda/envs/Python-RT24.1/lib/python3.11/site-packages (from ibm_cloud_sdk_core==3.*,>=3.3.6->ibm-watson>=8.0.0) (2.5.0)\n",
      "Requirement already satisfied: PyJWT<3.0.0,>=2.8.0 in /opt/conda/envs/Python-RT24.1/lib/python3.11/site-packages (from ibm_cloud_sdk_core==3.*,>=3.3.6->ibm-watson>=8.0.0) (2.10.1)\n",
      "Requirement already satisfied: six>=1.5 in /opt/conda/envs/Python-RT24.1/lib/python3.11/site-packages (from python_dateutil>=2.5.3->ibm-watson>=8.0.0) (1.16.0)\n",
      "Requirement already satisfied: charset_normalizer<4,>=2 in /opt/conda/envs/Python-RT24.1/lib/python3.11/site-packages (from requests<3.0,>=2.0->ibm-watson>=8.0.0) (2.0.4)\n",
      "Requirement already satisfied: idna<4,>=2.5 in /opt/conda/envs/Python-RT24.1/lib/python3.11/site-packages (from requests<3.0,>=2.0->ibm-watson>=8.0.0) (3.7)\n",
      "Requirement already satisfied: certifi>=2017.4.17 in /opt/conda/envs/Python-RT24.1/lib/python3.11/site-packages (from requests<3.0,>=2.0->ibm-watson>=8.0.0) (2025.8.3)\n",
      "Downloading websocket_client-1.8.0-py3-none-any.whl (58 kB)\n",
      "\u001b[2K   \u001b[90m━━━━━━━━━━━━━━━━━━━━━━━━━━━━━━━━━━━━━━━━\u001b[0m \u001b[32m58.8/58.8 kB\u001b[0m \u001b[31m8.5 MB/s\u001b[0m eta \u001b[36m0:00:00\u001b[0m\n",
      "\u001b[?25hBuilding wheels for collected packages: ibm-watson\n",
      "  Building wheel for ibm-watson (pyproject.toml) ... \u001b[?25ldone\n",
      "\u001b[?25h  Created wheel for ibm-watson: filename=ibm_watson-10.0.0-py3-none-any.whl size=361969 sha256=3edde122a2198cca9f6b8097e8bb260b293fc55c098dc4d5fbbac229337b7e13\n",
      "  Stored in directory: /tmp/wsuser/.cache/pip/wheels/f3/66/bb/8f7ce4c04a9b1d165c0dcccb0dbb1494af51a2f77f16336251\n",
      "Successfully built ibm-watson\n",
      "Installing collected packages: websocket-client, ibm-watson\n",
      "Successfully installed ibm-watson-10.0.0 websocket-client-1.8.0\n"
     ]
    }
   ],
   "source": [
    "# install required module \n",
    "! pip install --upgrade \"ibm-watson>=8.0.0\""
   ]
  },
  {
   "cell_type": "code",
   "execution_count": 3,
   "metadata": {
    "id": "e482921d-026f-42e1-b44e-0d041a764831"
   },
   "outputs": [],
   "source": [
    "# authentication \n",
    "\n",
    "# import relevant functions\n",
    "from ibm_watson import NaturalLanguageUnderstandingV1\n",
    "from ibm_cloud_sdk_core.authenticators import IAMAuthenticator\n",
    "\n",
    "# authenticate with the proviosion instance of NLU created on IBM Cloud\n",
    "APIKEY =  \"\\\\\"\n",
    "NLU_VERSION = \"2022-04-07\"\n",
    "NLU_URL = \"https://api.eu-de.natural-language-understanding.watson.cloud.ibm.com/instances/d6531fd0-e98d-4748-a238-1f5b408f88e5\"\n",
    "\n",
    "authenticator = IAMAuthenticator(APIKEY)\n",
    "natural_language_understanding = NaturalLanguageUnderstandingV1(\n",
    "    version = NLU_VERSION,\n",
    "    authenticator = authenticator\n",
    ")\n",
    "\n",
    "natural_language_understanding.set_service_url(NLU_URL)"
   ]
  },
  {
   "cell_type": "code",
   "execution_count": 13,
   "metadata": {
    "id": "a976b181-c812-48a1-8fa6-0efb202d6320"
   },
   "outputs": [],
   "source": [
    "# Use NLU to analyze a particulare text\n",
    "\n",
    "# import the functions to prepare the payload expected by the service\n",
    "from ibm_watson.natural_language_understanding_v1 import Features, EntitiesOptions, KeywordsOptions\n",
    "\n",
    "response = natural_language_understanding.analyze(\n",
    "    text ='Domani ho un esame di cloud computing e sono pronto a prendere un bel 30 e lode',\n",
    "    features = Features(\n",
    "        entities = EntitiesOptions(emotion=True, sentiment=True, limit=2),\n",
    "        keywords = KeywordsOptions(emotion=True, sentiment=True, limit=2))\n",
    "    ).get_result()"
   ]
  },
  {
   "cell_type": "code",
   "execution_count": null,
   "metadata": {
    "id": "e1d9db9a-4caa-4b28-b6fb-3893baa410c6"
   },
   "outputs": [],
   "source": [
    "# access the results stored in the \"response\" variable\n",
    "import json\n",
    "\n",
    "print(json.dumps(response, indent=2))"
   ]
  },
  {
   "cell_type": "markdown",
   "metadata": {
    "id": "f4d241f3-d2cd-4a69-9ad4-ee9cdbb44bcc"
   },
   "source": [
    "## Customize NLU request"
   ]
  },
  {
   "cell_type": "code",
   "execution_count": 7,
   "metadata": {
    "id": "f309a1bf-6ea0-4127-afb4-65f3327cef87"
   },
   "outputs": [
    {
     "name": "stdout",
     "output_type": "stream",
     "text": [
      "{\n",
      "  \"usage\": {\n",
      "    \"text_units\": 5,\n",
      "    \"text_characters\": 50000,\n",
      "    \"features\": 3\n",
      "  },\n",
      "  \"sentiment\": {\n",
      "    \"document\": {\n",
      "      \"score\": -0.449239,\n",
      "      \"mixed\": \"1\",\n",
      "      \"label\": \"negative\"\n",
      "    }\n",
      "  },\n",
      "  \"retrieved_url\": \"https://en.wikipedia.org/wiki/Fall_of_Constantinople\",\n",
      "  \"language\": \"en\",\n",
      "  \"keywords\": [\n",
      "    {\n",
      "      \"text\": \"21-year-old Sultan Mehmed II\",\n",
      "      \"relevance\": 0.59046,\n",
      "      \"count\": 1\n",
      "    },\n",
      "    {\n",
      "      \"text\": \"1st Constantinople\",\n",
      "      \"relevance\": 0.585504,\n",
      "      \"count\": 1\n",
      "    },\n",
      "    {\n",
      "      \"text\": \"Ottoman Empire\",\n",
      "      \"relevance\": 0.5578,\n",
      "      \"count\": 2\n",
      "    },\n",
      "    {\n",
      "      \"text\": \"Emperor Constantine XI\",\n",
      "      \"relevance\": 0.549606,\n",
      "      \"count\": 2\n",
      "    },\n",
      "    {\n",
      "      \"text\": \"cost of many struggles\",\n",
      "      \"relevance\": 0.54732,\n",
      "      \"count\": 1\n",
      "    },\n",
      "    {\n",
      "      \"text\": \"captains of the Venetian ships\",\n",
      "      \"relevance\": 0.542732,\n",
      "      \"count\": 1\n",
      "    },\n",
      "    {\n",
      "      \"text\": \"2nd Constantinople\",\n",
      "      \"relevance\": 0.540864,\n",
      "      \"count\": 1\n",
      "    },\n",
      "    {\n",
      "      \"text\": \"attacking Ottoman Army\",\n",
      "      \"relevance\": 0.53626,\n",
      "      \"count\": 1\n",
      "    },\n",
      "    {\n",
      "      \"text\": \"new Ottoman capital\",\n",
      "      \"relevance\": 0.535714,\n",
      "      \"count\": 1\n",
      "    },\n",
      "    {\n",
      "      \"text\": \"part of the culmination of a 55-day siege\",\n",
      "      \"relevance\": 0.534354,\n",
      "      \"count\": 1\n",
      "    }\n",
      "  ],\n",
      "  \"entities\": [\n",
      "    {\n",
      "      \"type\": \"Person\",\n",
      "      \"text\": \"Mehmed\",\n",
      "      \"relevance\": 0.949772,\n",
      "      \"count\": 34,\n",
      "      \"confidence\": 1\n",
      "    },\n",
      "    {\n",
      "      \"type\": \"Location\",\n",
      "      \"text\": \"Constantinople\",\n",
      "      \"relevance\": 0.925327,\n",
      "      \"count\": 49,\n",
      "      \"confidence\": 1\n",
      "    },\n",
      "    {\n",
      "      \"type\": \"Organization\",\n",
      "      \"text\": \"Ottomans\",\n",
      "      \"relevance\": 0.321732,\n",
      "      \"count\": 16,\n",
      "      \"confidence\": 1.0\n",
      "    },\n",
      "    {\n",
      "      \"type\": \"Person\",\n",
      "      \"text\": \"Mehmed II\",\n",
      "      \"relevance\": 0.293513,\n",
      "      \"count\": 8,\n",
      "      \"confidence\": 0.999495\n",
      "    },\n",
      "    {\n",
      "      \"type\": \"Person\",\n",
      "      \"text\": \"Constantine\",\n",
      "      \"relevance\": 0.24526,\n",
      "      \"count\": 14,\n",
      "      \"confidence\": 1\n",
      "    }\n",
      "  ],\n",
      "  \"warnings\": [\n",
      "    \"Text content exceeds 50000 character limit. Only first 50000 characters processed...\"\n",
      "  ]\n",
      "}\n"
     ]
    }
   ],
   "source": [
    "# Use NLU to \n",
    "# 1) analyze a web page\n",
    "# 2) analyze the sentiment of the page\n",
    "# 3) increase the number of results returned (keywords and entities)\n",
    "\n",
    "\n",
    "# import the functions to prepare the payload expected by the service\n",
    "from ibm_watson.natural_language_understanding_v1 import Features, EntitiesOptions, KeywordsOptions, SentimentOptions\n",
    "\n",
    "# 1) change \"text\" param to \"URL\" param\n",
    "# 2) setimenti: added the option SentimentOptions and iserted the param \"Sentiment\" inside the \"features\" part of the request\n",
    "# 3) remove emotion and sentiment from keyword and entities request but increased the \"limit\" param value\n",
    "\n",
    "TARGET_URL = 'https://en.wikipedia.org/wiki/Fall_of_Constantinople'\n",
    "\n",
    "response = natural_language_understanding.analyze(\n",
    "    url = TARGET_URL,\n",
    "    features = Features(\n",
    "        entities = EntitiesOptions(limit=5),\n",
    "        keywords = KeywordsOptions(limit=10),\n",
    "        sentiment = SentimentOptions(document= True))\n",
    "    ).get_result()\n",
    "\n",
    "# access the results stored in the \"response\" variable\n",
    "import json\n",
    "\n",
    "print(json.dumps(response, indent=2))"
   ]
  },
  {
   "cell_type": "markdown",
   "metadata": {
    "id": "33d677a9-6891-47d8-afc0-79c967362fcb"
   },
   "source": [
    "## Manipulate the results in readable format\n",
    "\n",
    "recreate the following output:\n",
    "\n",
    "\"the web page analyzed in *URL*.\n",
    "Inside the web page NLU detected the following <NUM_KEYWORD> most relevant keywords: \n",
    "- keyword n1\n",
    "- keyword n2\n"
   ]
  },
  {
   "cell_type": "code",
   "execution_count": 8,
   "metadata": {
    "id": "eb165201-e4ec-4fdb-9757-7250d33107b8"
   },
   "outputs": [
    {
     "name": "stdout",
     "output_type": "stream",
     "text": [
      "NUM_KEYWORDS 10\n",
      "['21-year-old Sultan Mehmed II', '1st Constantinople', 'Ottoman Empire', 'Emperor Constantine XI', 'cost of many struggles', 'captains of the Venetian ships', '2nd Constantinople', 'attacking Ottoman Army', 'new Ottoman capital', 'part of the culmination of a 55-day siege']\n",
      "the web page analyzed is https://en.wikipedia.org/wiki/Fall_of_Constantinople\n",
      "inside the web page NLU detected the following 10 most relevant keywords:\n",
      "- 21-year-old Sultan Mehmed II\n",
      "- 1st Constantinople\n",
      "- Ottoman Empire\n",
      "- Emperor Constantine XI\n",
      "- cost of many struggles\n",
      "- captains of the Venetian ships\n",
      "- 2nd Constantinople\n",
      "- attacking Ottoman Army\n",
      "- new Ottoman capital\n",
      "- part of the culmination of a 55-day siege\n"
     ]
    }
   ],
   "source": [
    "# Count number of keywords\n",
    "\n",
    "TARGET_URL = \"https://en.wikipedia.org/wiki/Fall_of_Constantinople\"\n",
    "\n",
    "# option number 1 using len()\n",
    "NUM_KEYWORDS = len(response[\"keywords\"])\n",
    "\n",
    "# option number 2, Loop inside the list\n",
    "NUM_KEYWORDS = 0\n",
    "for keyword in response[\"keywords\"]:\n",
    "    #print(keyword[\"text\"], \":\", keyword[\"relevance\"])\n",
    "    NUM_KEYWORDS += 1\n",
    "\n",
    "print(\"NUM_KEYWORDS\", NUM_KEYWORDS)\n",
    "\n",
    "# extract keywords\n",
    "keywords_list = []\n",
    "for keyword in response[\"keywords\"]:\n",
    "    keywords_list.append(keyword[\"text\"])\n",
    "\n",
    "print(keywords_list)\n",
    "\n",
    "print(\"the web page analyzed is\", TARGET_URL)\n",
    "print(\"inside the web page NLU detected the following\", NUM_KEYWORDS, \"most relevant keywords:\")\n",
    "for k in keywords_list:\n",
    "    print(\"-\", k)"
   ]
  },
  {
   "cell_type": "markdown",
   "metadata": {
    "id": "ecb7064e-4ee4-4131-8d19-e1f0112d13df"
   },
   "source": [
    "## Store the results inside a remote storage\n",
    "\n",
    "we will use the cloud service Cloud Object Storage to persist the information of the various requests we perform to NLU "
   ]
  },
  {
   "cell_type": "code",
   "execution_count": 9,
   "metadata": {
    "id": "a80e9da5-5afb-483b-a867-a92f97b8a867"
   },
   "outputs": [
    {
     "name": "stdout",
     "output_type": "stream",
     "text": [
      "Requirement already satisfied: ibm-cos-sdk in /opt/conda/envs/Python-RT24.1/lib/python3.11/site-packages (2.14.2)\n",
      "Requirement already satisfied: ibm-cos-sdk-core==2.14.2 in /opt/conda/envs/Python-RT24.1/lib/python3.11/site-packages (from ibm-cos-sdk) (2.14.2)\n",
      "Requirement already satisfied: ibm-cos-sdk-s3transfer==2.14.2 in /opt/conda/envs/Python-RT24.1/lib/python3.11/site-packages (from ibm-cos-sdk) (2.14.2)\n",
      "Requirement already satisfied: jmespath<=1.0.1,>=0.10.0 in /opt/conda/envs/Python-RT24.1/lib/python3.11/site-packages (from ibm-cos-sdk) (1.0.1)\n",
      "Requirement already satisfied: python-dateutil<3.0.0,>=2.9.0 in /opt/conda/envs/Python-RT24.1/lib/python3.11/site-packages (from ibm-cos-sdk-core==2.14.2->ibm-cos-sdk) (2.9.0.post0)\n",
      "Requirement already satisfied: requests<3.0.0,>=2.32.4 in /opt/conda/envs/Python-RT24.1/lib/python3.11/site-packages (from ibm-cos-sdk-core==2.14.2->ibm-cos-sdk) (2.32.4)\n",
      "Requirement already satisfied: urllib3<3,>=1.26.18 in /opt/conda/envs/Python-RT24.1/lib/python3.11/site-packages (from ibm-cos-sdk-core==2.14.2->ibm-cos-sdk) (2.5.0)\n",
      "Requirement already satisfied: six>=1.5 in /opt/conda/envs/Python-RT24.1/lib/python3.11/site-packages (from python-dateutil<3.0.0,>=2.9.0->ibm-cos-sdk-core==2.14.2->ibm-cos-sdk) (1.16.0)\n",
      "Requirement already satisfied: charset_normalizer<4,>=2 in /opt/conda/envs/Python-RT24.1/lib/python3.11/site-packages (from requests<3.0.0,>=2.32.4->ibm-cos-sdk-core==2.14.2->ibm-cos-sdk) (2.0.4)\n",
      "Requirement already satisfied: idna<4,>=2.5 in /opt/conda/envs/Python-RT24.1/lib/python3.11/site-packages (from requests<3.0.0,>=2.32.4->ibm-cos-sdk-core==2.14.2->ibm-cos-sdk) (3.7)\n",
      "Requirement already satisfied: certifi>=2017.4.17 in /opt/conda/envs/Python-RT24.1/lib/python3.11/site-packages (from requests<3.0.0,>=2.32.4->ibm-cos-sdk-core==2.14.2->ibm-cos-sdk) (2025.8.3)\n"
     ]
    }
   ],
   "source": [
    "# install dependencies\n",
    "! pip install ibm-cos-sdk"
   ]
  },
  {
   "cell_type": "code",
   "execution_count": 10,
   "metadata": {
    "id": "b63db1cd-dea0-4385-9c7b-882d114d8736"
   },
   "outputs": [],
   "source": [
    "# authenticate with the service\n",
    "import ibm_boto3\n",
    "from ibm_botocore.client import Config, ClientError\n",
    "\n",
    "# Constants for IBM COS values\n",
    "COS_ENDPOINT = \"https://s3.eu-de.cloud-object-storage.appdomain.cloud\" # Current list avaiable at https://control.cloud-object-storage.cloud.ibm.com/v2/endpoints\n",
    "COS_API_KEY_ID = \"\\\\\" \n",
    "COS_INSTANCE_CRN = \"crn:v1:bluemix:public:cloud-object-storage:global:a/0d4bedc2778c435daa08b1c8f5fbe1f5:0e78fafe-555f-41df-97d8-9ba5c98e2c60::\" # eg \"crn:v1:bluemix:public:cloud-object-storage:global:a/3bf0d9003xxxxxxxxxx1c3e97696b71c:d6f04d83-6c4f-4a62-a165-696756d63903::\"\n",
    "\n",
    "# Create client\n",
    "cos_client = ibm_boto3.client(\"s3\",\n",
    "    ibm_api_key_id=COS_API_KEY_ID,\n",
    "    ibm_service_instance_id=COS_INSTANCE_CRN,\n",
    "    config=Config(signature_version=\"oauth\"),\n",
    "    endpoint_url=COS_ENDPOINT\n",
    ")"
   ]
  },
  {
   "cell_type": "code",
   "execution_count": 11,
   "metadata": {
    "id": "2f6a7eea-c6f4-4a89-bb79-00fa7b15116f"
   },
   "outputs": [
    {
     "name": "stdout",
     "output_type": "stream",
     "text": [
      "Creating new item: test.txt\n",
      "Item: test.txt created!\n"
     ]
    }
   ],
   "source": [
    "# example: create a text file\n",
    "\n",
    "FILE_NAME = \"test.txt\"\n",
    "FILE_CONTENT = \"This is a text file used to text the integration with cloud object storage\"\n",
    "BUCKET_NAME = \"nlu-responses-ma\"\n",
    "\n",
    "print(\"Creating new item: {0}\".format(FILE_NAME))\n",
    "try:\n",
    "    cos_client.put_object(\n",
    "        Bucket=BUCKET_NAME, \n",
    "        Key=FILE_NAME, \n",
    "        Body=FILE_CONTENT\n",
    "    )\n",
    "    print(\"Item: {0} created!\".format(FILE_NAME))\n",
    "except ClientError as be:\n",
    "    print(\"CLIENT ERROR: {0}\\n\".format(be))\n",
    "except Exception as e:\n",
    "    print(\"Unable to create text file: {0}\".format(e))"
   ]
  },
  {
   "cell_type": "code",
   "execution_count": 12,
   "metadata": {
    "id": "d61ff103-b02c-4b9e-8919-ca500b0b806f"
   },
   "outputs": [],
   "source": [
    "# define a re-usable function for cloud object storage\n",
    "\n",
    "def upload_file(file_name, file_content):\n",
    "    BUCKET_NAME = \"nlu-responses-ma\"\n",
    "    \n",
    "    print(\"Creating new item: {0}\".format(file_name))\n",
    "    try: # manage an error: tries to execute the code whithin the try, if an error is detected, it doesn't crash but it runs the except code\n",
    "        cos_client.put_object(\n",
    "            Bucket=BUCKET_NAME, \n",
    "            Key=file_name, \n",
    "            Body=file_content\n",
    "        )\n",
    "        print(\"Item: {0} created!\".format(file_name))\n",
    "    except ClientError as be:\n",
    "        print(\"CLIENT ERROR: {0}\\n\".format(be))\n",
    "    except Exception as e:\n",
    "        print(\"Unable to create text file: {0}\".format(e))"
   ]
  },
  {
   "cell_type": "code",
   "execution_count": 13,
   "metadata": {
    "id": "7387fe98-7a63-485f-8a24-56fdb9c68b2d"
   },
   "outputs": [],
   "source": [
    "# define a function for NLU\n",
    "\n",
    "def analyze_webpage(webpage_url):\n",
    "    print(\"Starting to analyze webpage\", webpage_url)\n",
    "    response = {}\n",
    "    try:    \n",
    "        response = natural_language_understanding.analyze(\n",
    "            url = webpage_url,\n",
    "            features = Features(\n",
    "                entities = EntitiesOptions(limit=5),\n",
    "                keywords = KeywordsOptions(limit=10),\n",
    "                sentiment = SentimentOptions(document= True))\n",
    "            ).get_result()\n",
    "    except Exception as e:\n",
    "        print(\"Unable to create text file: {0}\".format(e))\n",
    "    \n",
    "    return response"
   ]
  },
  {
   "cell_type": "code",
   "execution_count": 14,
   "metadata": {
    "id": "6f865594-a5ad-4f3c-aa61-81c368e17eb9"
   },
   "outputs": [],
   "source": [
    "# define a function to format the results in a string\n",
    "\n",
    "def format_results(results_nlu):\n",
    "    print(\"Counting number of keywords\")\n",
    "    NUM_KEYWORDS = len(results_nlu[\"keywords\"])\n",
    "    print(\"Listing keywords...\")\n",
    "    keywords_list = []\n",
    "    for keyword in results_nlu[\"keywords\"]:\n",
    "        keywords_list.append(keyword[\"text\"])\n",
    "    print(\"Extraction completed\")\n",
    "    print(\"Preparing string of text\")\n",
    "    results_string = \"\"\n",
    "    results_string += \"the web page analyzed is \" + results_nlu[\"retrieved_url\"] \n",
    "    results_string += \"\\n\"\n",
    "    results_string += \"inside the web page NLU detected the following \" + str(NUM_KEYWORDS) + \" most relevant keywords:\"\n",
    "    results_string += \"\\n\"\n",
    "    for k in keywords_list:\n",
    "        results_string += \"-\" + k + \"\\n\"\n",
    "    return results_string "
   ]
  },
  {
   "cell_type": "markdown",
   "metadata": {
    "id": "481e2c93-84e9-4db4-bbe3-502aa35b7bbf"
   },
   "source": [
    "# Test the workflow created"
   ]
  },
  {
   "cell_type": "code",
   "execution_count": 17,
   "metadata": {
    "id": "305689ea-cb53-44a4-b937-6b097d27e145"
   },
   "outputs": [
    {
     "name": "stdout",
     "output_type": "stream",
     "text": [
      "Starting to analyze webpage https://www.iea.org/reports/world-energy-investment-2025/how-we-track-investment-in-energy\n",
      "Counting number of keywords\n",
      "Listing keywords...\n",
      "Extraction completed\n",
      "Preparing string of text\n",
      "Creating new item: query01.txt\n",
      "Item: query01.txt created!\n"
     ]
    }
   ],
   "source": [
    "URL_TO_SEARCH = \"https://www.iea.org/reports/world-energy-investment-2025/how-we-track-investment-in-energy\"\n",
    "FILENAME = \"query01.txt\"\n",
    "\n",
    "result_dict = analyze_webpage(URL_TO_SEARCH)\n",
    "result_text = format_results(result_dict)\n",
    "upload_file(FILENAME, result_text)"
   ]
  },
  {
   "cell_type": "code",
   "execution_count": null,
   "metadata": {
    "id": "d11e3e59-af2c-4cd4-bfb6-6577983bb1aa"
   },
   "outputs": [],
   "source": []
  }
 ],
 "metadata": {
  "kernelspec": {
   "display_name": "Python 3 (ipykernel)",
   "language": "python",
   "name": "python3"
  },
  "language_info": {
   "codemirror_mode": {
    "name": "ipython",
    "version": 3
   },
   "file_extension": ".py",
   "mimetype": "text/x-python",
   "name": "python",
   "nbconvert_exporter": "python",
   "pygments_lexer": "ipython3",
   "version": "3.13.0"
  }
 },
 "nbformat": 4,
 "nbformat_minor": 4
}
